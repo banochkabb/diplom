{
 "cells": [
  {
   "cell_type": "code",
   "execution_count": 1,
   "id": "be7bb99e",
   "metadata": {},
   "outputs": [],
   "source": [
    "import os\n",
    "\n",
    "os.environ['CUDA_VISIBLE_DEVICES'] = '3'\n",
    "from transformers import BloomForCausalLM, AutoTokenizer\n",
    "\n",
    "tokenizer = AutoTokenizer.from_pretrained(\"bigscience/bloom-560m\", add_prefix_space=True)\n",
    "\n",
    "# model = BloomForCausalLM.from_pretrained(\"bigscience/bloom-560m-intermediate\", revision='global_step10000')\n"
   ]
  },
  {
   "cell_type": "code",
   "execution_count": 2,
   "id": "8cf24588",
   "metadata": {},
   "outputs": [],
   "source": [
    "import os\n",
    "\n",
    "# os.environ['CUDA_VISIBLE_DEVICES'] = '0'\n",
    "# os.environ['CUDA_LAUNCH_BLOCKING'] = '1'\n",
    "\n",
    "from torch import nn\n",
    "import torch\n",
    "\n",
    "\n",
    "def compute_loss_labelsmoothed(logits, labels, ignore_index=-100, epsilon=0.1):\n",
    "    logits = logits[..., :-1, :].contiguous()\n",
    "    labels = labels[..., 1:].contiguous()\n",
    "\n",
    "    log_probs = -nn.functional.log_softmax(logits, dim=-1)\n",
    "    if labels.dim() == log_probs.dim() - 1:\n",
    "        labels = labels.unsqueeze(-1)\n",
    "\n",
    "    padding_mask = labels.eq(ignore_index)\n",
    "\n",
    "    labels = torch.clamp(labels, min=0)\n",
    "    nll_loss = log_probs.gather(dim=-1, index=labels)\n",
    "\n",
    "    smoothed_loss = log_probs.sum(dim=-1, keepdim=True, dtype=torch.float32)\n",
    "\n",
    "    nll_loss.masked_fill_(padding_mask, 0.0)\n",
    "    smoothed_loss.masked_fill_(padding_mask, 0.0)\n",
    "\n",
    "    num_active_elements = padding_mask.numel() - padding_mask.long().sum()\n",
    "    nll_loss = nll_loss.sum() / num_active_elements\n",
    "    smoothed_loss = smoothed_loss.sum() / (num_active_elements * log_probs.shape[-1])\n",
    "    return (1 - epsilon) * nll_loss + epsilon * smoothed_loss\n",
    "\n",
    "    \n",
    "class MyNet(nn.Module): #t5 сложнее создавать создавать датасет для лм так как много пришлось бы возиться с префиксами\n",
    "    def __init__(self, revision, layers):\n",
    "        super().__init__()\n",
    "#         self.transformer = GPT2LMHeadModel.from_pretrained('gpt2')\n",
    "        self.transformer = BloomForCausalLM.from_pretrained(\n",
    "            \"bigscience/bloom-560m-intermediate\",\n",
    "            revision=revision,\n",
    "        )\n",
    "        \n",
    "        hid_size = self.transformer.config.hidden_size\n",
    "        self.voc_size = self.transformer.config.vocab_size\n",
    "        \n",
    "        self.early_exits = nn.ModuleList([\n",
    "            nn.Linear(hid_size, self.voc_size) for _ in layers\n",
    "        ])\n",
    "        self._hidden_indices = layers\n",
    "        print(f'will be using outputs of {self._hidden_indices} layers')\n",
    "        self.ce = nn.CrossEntropyLoss()\n",
    "    \n",
    "    def forward(self, input_ids, attention_mask, labels=None):\n",
    "        output = self.transformer(\n",
    "            input_ids=input_ids,\n",
    "            attention_mask=attention_mask,\n",
    "            labels=labels,\n",
    "            output_hidden_states=True,\n",
    "        )\n",
    "        \n",
    "        hidden_states = output.hidden_states[1:-1]\n",
    "        heads_outputs = [\n",
    "            self.early_exits[idx](hidden_states[self._hidden_indices[idx]]) \n",
    "            for idx in range(0, len(self.early_exits))\n",
    "        ]\n",
    "                \n",
    "        if labels is None:\n",
    "            heads_outputs = [\n",
    "                torch.softmax(head_output, dim=-1) for head_output in heads_outputs\n",
    "            ] # h_os[i][bs][seqlen][tok_num] = P(из i-го слоя на seqlen месте стоит токен tok_num)\n",
    "\n",
    "            return {'head_outputs': heads_outputs, 'last_head': torch.softmax(output.logits, dim=-1)}\n",
    "                \n",
    "        losses = [\n",
    "            compute_loss_labelsmoothed(head_output, labels)\n",
    "            for head_output in heads_outputs\n",
    "        ]\n",
    "        \n",
    "        losses = torch.stack(losses,)\n",
    "        total_loss = torch.sum(losses)\n",
    "        \n",
    "        heads_outputs = [\n",
    "            torch.softmax(head_output, dim=-1).detach() for head_output in heads_outputs\n",
    "        ] # h_os[i][bs][seqlen][tok_num] = P(из i-го слоя на seqlen месте стоит токен tok_num)\n",
    "\n",
    "        return {\n",
    "            'loss': total_loss, \n",
    "            'head_outputs': heads_outputs,  # [num_layers, bs=1, seq_len, vocab_size] # {token: {layer_num: [probabilities, ... ]}}\n",
    "            'last_head': torch.softmax(output.logits, dim=-1).detach(),\n",
    "        }\n",
    "        "
   ]
  },
  {
   "cell_type": "code",
   "execution_count": 3,
   "id": "78619be7",
   "metadata": {},
   "outputs": [],
   "source": [
    "dataset_path = 'files/dataset_test'\n",
    "dataset_cache = 'files/.cache'"
   ]
  },
  {
   "cell_type": "code",
   "execution_count": 4,
   "id": "9c9d6d3c",
   "metadata": {},
   "outputs": [],
   "source": [
    "from datasets import load_dataset\n",
    "import numpy as np\n",
    "\n",
    "# dataset = load_dataset(\"wikipedia\", \"20220301.en\", dataset_cache)\n",
    "\n",
    "# rand_idx = np.random.choice(np.arange(len(dataset['train'])), size=100_000, replace=False)\n",
    "\n",
    "# # import json\n",
    "# # rand_idx = json.load(open('indices.json', 'r'))\n",
    "\n",
    "# dataset = dataset['train'].select(rand_idx, )\n",
    "\n",
    "# # # import json\n",
    "\n",
    "# # # json.dump(rand_idx.tolist(), open('indices.json', 'w'),)\n",
    "\n",
    "# # def tokenize_data(example):\n",
    "# #     return tokenizer(example['text'], max_length=512, truncation=True)\n",
    "\n",
    "# # dataset = dataset.map(\n",
    "# #     tokenize_data, remove_columns=['text', 'id', 'url', 'title'], batched=True, num_proc=10\n",
    "# # )\n",
    "\n",
    "# dataset.save_to_disk(dataset_path)\n",
    "\n",
    "\n",
    "from datasets import load_from_disk\n",
    "\n",
    "dataset = load_from_disk(dataset_path)"
   ]
  },
  {
   "cell_type": "code",
   "execution_count": 5,
   "id": "a5129834",
   "metadata": {},
   "outputs": [
    {
     "name": "stderr",
     "output_type": "stream",
     "text": [
      "2023-05-15 18:17:57.240480: I tensorflow/core/util/port.cc:110] oneDNN custom operations are on. You may see slightly different numerical results due to floating-point round-off errors from different computation orders. To turn them off, set the environment variable `TF_ENABLE_ONEDNN_OPTS=0`.\n",
      "2023-05-15 18:17:57.318363: I tensorflow/core/platform/cpu_feature_guard.cc:182] This TensorFlow binary is optimized to use available CPU instructions in performance-critical operations.\n",
      "To enable the following instructions: AVX2 AVX512F AVX512_VNNI FMA, in other operations, rebuild TensorFlow with the appropriate compiler flags.\n",
      "2023-05-15 18:17:58.546071: W tensorflow/compiler/tf2tensorrt/utils/py_utils.cc:38] TF-TRT Warning: Could not find TensorRT\n"
     ]
    }
   ],
   "source": [
    "from transformers import DataCollatorForLanguageModeling\n",
    "\n",
    "collator = DataCollatorForLanguageModeling(tokenizer, mlm=False)\n",
    "\n",
    "# net = MyNet(\"global_step100000\", [3, 14, 21]).to('cuda')\n",
    "# net = net.eval()\n",
    "\n",
    "from transformers import Trainer\n",
    "\n",
    "# net.load_state_dict(torch.load('../mnt/bloom-models/bloom-final-global-step-100000/pytorch_model.bin'))\n",
    "\n",
    "# net.eval();"
   ]
  },
  {
   "cell_type": "code",
   "execution_count": 6,
   "id": "f641fb81",
   "metadata": {},
   "outputs": [],
   "source": [
    "from torch.nn import CrossEntropyLoss"
   ]
  },
  {
   "cell_type": "code",
   "execution_count": 7,
   "id": "6774a646",
   "metadata": {},
   "outputs": [],
   "source": [
    "loss_ce = CrossEntropyLoss()"
   ]
  },
  {
   "cell_type": "code",
   "execution_count": 8,
   "id": "0eb5e5d3",
   "metadata": {},
   "outputs": [],
   "source": [
    "device = 'cuda'"
   ]
  },
  {
   "cell_type": "code",
   "execution_count": 9,
   "id": "52b38fce",
   "metadata": {},
   "outputs": [],
   "source": [
    "from nltk.stem import WordNetLemmatizer\n",
    "\n",
    "lemmatizer = WordNetLemmatizer()"
   ]
  },
  {
   "cell_type": "code",
   "execution_count": 15,
   "id": "ff1c1ce2",
   "metadata": {},
   "outputs": [],
   "source": [
    "def get_sentence_grads(net, sent, layer_num):\n",
    "    words = sent.lower().split()\n",
    "    optimizer = torch.optim.SGD(net.parameters(), lr=1e-1)\n",
    "    \n",
    "    tokenized = tokenizer(\n",
    "        words, truncation=True, max_length=512, is_split_into_words=True, return_tensors='pt'\n",
    "    ).to(device)\n",
    "    \n",
    "    outputs = net(**tokenized)\n",
    "    heads_probs = outputs['head_outputs'] + [outputs['last_head']]\n",
    "    heads_probs = torch.stack(heads_probs)  # [num_layers, 1, seq_len, voc_size]\n",
    "    \n",
    "    return_dict = defaultdict(lambda: defaultdict(list))\n",
    "    \n",
    "    word_ids = tokenized.word_ids()\n",
    "    \n",
    "    heads_preds_per_words = []\n",
    "    \n",
    "    per_head_norm = []\n",
    "    for i in range(len(word_ids) - 1):\n",
    "        word_id = word_ids[i + 1]\n",
    "\n",
    "        gt_token_id = tokenized['input_ids'][0, i + 1]\n",
    "        heads_predictions = heads_probs[layer_num, 0, i, :]\n",
    "\n",
    "        assert heads_predictions.requires_grad\n",
    "        head_loss = loss_ce(heads_predictions, gt_token_id)\n",
    "        head_loss.backward(retain_graph=True)\n",
    "\n",
    "        norm = torch.nn.utils.clip_grad_norm_(net.parameters(), 1)\n",
    "        optimizer.zero_grad()\n",
    "\n",
    "        per_head_norm.append(norm)\n",
    "\n",
    "    heads_preds_per_words.append(torch.stack(per_head_norm).cpu().numpy().tolist())\n",
    "    \n",
    "    # heads_preds_per_words: [num_layers, len(word_ids) - 1]\n",
    "    \n",
    "    heads_preds_per_words = np.array(heads_preds_per_words)\n",
    "\n",
    "    prev_word_id = 0\n",
    "    cur_prob = np.zeros(heads_preds_per_words.shape[0]) # [num_layers, ]\n",
    "    cur_count = 0\n",
    "    \n",
    "    for i in range(len(word_ids) - 1):\n",
    "        word_id = word_ids[i + 1]\n",
    "        heads_prediction = heads_preds_per_words[:, i] # [num_layers, ]\n",
    "        \n",
    "        if word_id == prev_word_id:\n",
    "            cur_count += 1\n",
    "            for layer in range(len(heads_prediction)):\n",
    "                cur_prob[layer] += heads_prediction[layer]\n",
    "        else:\n",
    "        \n",
    "            word_key = lemmatizer.lemmatize(words[word_id])\n",
    "            \n",
    "            layer=0\n",
    "            return_dict[word_key][layer].append(cur_prob[layer] / min(cur_count, 1))\n",
    "            \n",
    "            cur_prob = heads_prediction\n",
    "            cur_count = 1\n",
    "            \n",
    "    for k, v in return_dict.items():\n",
    "        for kv, arrs in v.items():\n",
    "            return_dict[k][kv] = np.mean(np.stack(arrs), axis=0)\n",
    "            \n",
    "    return return_dict\n",
    "    # {word: {layer: [probs, ...]}}"
   ]
  },
  {
   "cell_type": "code",
   "execution_count": 16,
   "id": "ced97b8b",
   "metadata": {},
   "outputs": [],
   "source": [
    "from tqdm.auto import tqdm\n",
    "import joblib\n",
    "from collections import defaultdict"
   ]
  },
  {
   "cell_type": "code",
   "execution_count": 12,
   "id": "25223492",
   "metadata": {
    "scrolled": false
   },
   "outputs": [
    {
     "name": "stdout",
     "output_type": "stream",
     "text": [
      "will be using outputs of [3, 14, 21] layers\n"
     ]
    },
    {
     "data": {
      "application/vnd.jupyter.widget-view+json": {
       "model_id": "acb716e5d8ad4ce38a7d3f1a5b1c536a",
       "version_major": 2,
       "version_minor": 0
      },
      "text/plain": [
       "  0%|          | 0/2000 [00:00<?, ?it/s]"
      ]
     },
     "metadata": {},
     "output_type": "display_data"
    },
    {
     "name": "stderr",
     "output_type": "stream",
     "text": [
      "/tmp/ipykernel_1213/1630040468.py:64: RuntimeWarning: invalid value encountered in double_scalars\n",
      "  return_dict[word_key][layer].append(cur_prob[layer] / min(cur_count, 1))\n"
     ]
    },
    {
     "name": "stdout",
     "output_type": "stream",
     "text": [
      "will be using outputs of [3, 14, 21] layers\n"
     ]
    },
    {
     "data": {
      "application/vnd.jupyter.widget-view+json": {
       "model_id": "7d82c3ed118b4540b5569391904fa705",
       "version_major": 2,
       "version_minor": 0
      },
      "text/plain": [
       "  0%|          | 0/2000 [00:00<?, ?it/s]"
      ]
     },
     "metadata": {},
     "output_type": "display_data"
    },
    {
     "name": "stderr",
     "output_type": "stream",
     "text": [
      "IOPub message rate exceeded.\n",
      "The notebook server will temporarily stop sending output\n",
      "to the client in order to avoid crashing it.\n",
      "To change this limit, set the config variable\n",
      "`--NotebookApp.iopub_msg_rate_limit`.\n",
      "\n",
      "Current values:\n",
      "NotebookApp.iopub_msg_rate_limit=1000.0 (msgs/sec)\n",
      "NotebookApp.rate_limit_window=3.0 (secs)\n",
      "\n"
     ]
    }
   ],
   "source": [
    "for model_path, name in zip([\n",
    "#     '../mnt/bloom-models/bloom-final-global-step-100000/pytorch_model.bin',\n",
    "#      '../mnt/bloom-models/bloom-final-global-step-300000/pytorch_model.bin',\n",
    "     '../mnt/bloom-models/bloom-final-global-step-600000/pytorch_model.bin',\n",
    "     '../mnt/bloom-models/bloom-10000/checkpoint-91000/pytorch_model.bin',\n",
    "], ['bloom-600000', 'bloom-10000']): #['bloom-100000', 'bloom-300000', 'bloom-600000', 'bloom-10000']):\n",
    "    torch.cuda.empty_cache()\n",
    "\n",
    "    net = MyNet(\"global_step100000\", [3, 14, 21]).to(device)\n",
    "    net.load_state_dict(torch.load(model_path))\n",
    "    \n",
    "    for name, param in net.named_parameters():\n",
    "        if 'early_exits.0' not in name:\n",
    "            param.requires_grad_(False)\n",
    "\n",
    "    word_stats = defaultdict(lambda: defaultdict(list))\n",
    "\n",
    "    for i in tqdm(range(2_000)):\n",
    "        example = dataset[i]\n",
    "\n",
    "        return_dict = get_sentence_grads(net, example['text'])\n",
    "\n",
    "        for word in return_dict.keys():\n",
    "            for layer in return_dict[word].keys():\n",
    "                word_stats[word][layer].append(return_dict[word][layer])\n",
    "\n",
    "    word_stats_dict = {k: dict(v) for k, v in word_stats.items()}\n",
    "    joblib.dump(word_stats_dict, f'../mnt/{name}_grads_layer3.joblib')\n",
    "    del net\n"
   ]
  },
  {
   "cell_type": "code",
   "execution_count": 17,
   "id": "77828558",
   "metadata": {},
   "outputs": [],
   "source": [
    "def get_run(model_path, layer_name, save_name, layer_num):\n",
    "    torch.cuda.empty_cache()\n",
    "\n",
    "    net = MyNet(\"global_step100000\", [3, 14, 21]).to(device)\n",
    "    net.load_state_dict(torch.load(model_path))\n",
    "    \n",
    "    for name, param in net.named_parameters():\n",
    "        if layer_name not in name:\n",
    "            param.requires_grad_(False)\n",
    "        else:\n",
    "            print(name)\n",
    "\n",
    "    word_stats = defaultdict(lambda: defaultdict(list))\n",
    "\n",
    "    for i in tqdm(range(1_000)):\n",
    "        example = dataset[i]\n",
    "\n",
    "        return_dict = get_sentence_grads(net, example['text'], layer_num)\n",
    "\n",
    "        for word in return_dict.keys():\n",
    "            for layer in return_dict[word].keys():\n",
    "                word_stats[word][layer].append(return_dict[word][layer])\n",
    "#                 assert 0 not in word_stats[word][layer]\n",
    "\n",
    "    word_stats_dict = {k: dict(v) for k, v in word_stats.items()}\n",
    "    joblib.dump(word_stats_dict, save_name)\n",
    "    del net"
   ]
  },
  {
   "cell_type": "code",
   "execution_count": 18,
   "id": "e2eeb05c",
   "metadata": {},
   "outputs": [
    {
     "name": "stdout",
     "output_type": "stream",
     "text": [
      "will be using outputs of [3, 14, 21] layers\n",
      "early_exits.1.weight\n",
      "early_exits.1.bias\n"
     ]
    },
    {
     "data": {
      "application/vnd.jupyter.widget-view+json": {
       "model_id": "fa62def214b141bca2379d4ffb649675",
       "version_major": 2,
       "version_minor": 0
      },
      "text/plain": [
       "  0%|          | 0/1000 [00:00<?, ?it/s]"
      ]
     },
     "metadata": {},
     "output_type": "display_data"
    },
    {
     "name": "stderr",
     "output_type": "stream",
     "text": [
      "/tmp/ipykernel_1424/2978049087.py:58: RuntimeWarning: invalid value encountered in double_scalars\n",
      "  return_dict[word_key][layer].append(cur_prob[layer] / min(cur_count, 1))\n"
     ]
    },
    {
     "name": "stdout",
     "output_type": "stream",
     "text": [
      "will be using outputs of [3, 14, 21] layers\n",
      "early_exits.0.weight\n",
      "early_exits.0.bias\n"
     ]
    },
    {
     "data": {
      "application/vnd.jupyter.widget-view+json": {
       "model_id": "46edb37da9a84903b0045b92628c33b9",
       "version_major": 2,
       "version_minor": 0
      },
      "text/plain": [
       "  0%|          | 0/1000 [00:00<?, ?it/s]"
      ]
     },
     "metadata": {},
     "output_type": "display_data"
    },
    {
     "name": "stdout",
     "output_type": "stream",
     "text": [
      "will be using outputs of [3, 14, 21] layers\n",
      "early_exits.1.weight\n",
      "early_exits.1.bias\n"
     ]
    },
    {
     "data": {
      "application/vnd.jupyter.widget-view+json": {
       "model_id": "bf8e7d7214db451693401f3c85ab3f8a",
       "version_major": 2,
       "version_minor": 0
      },
      "text/plain": [
       "  0%|          | 0/1000 [00:00<?, ?it/s]"
      ]
     },
     "metadata": {},
     "output_type": "display_data"
    }
   ],
   "source": [
    "get_run('../mnt/bloom-models/bloom-10000/checkpoint-91000/pytorch_model.bin',\n",
    "        layer_name='early_exits.1', save_name='../mnt/grads_layer14_bloom-10000.joblib', layer_num=1)\n",
    "\n",
    "get_run('../mnt/bloom-models/bloom-final-global-step-600000/pytorch_model.bin',\n",
    "        layer_name='early_exits.0', save_name='../mnt/grads_layer3_bloom-600k.joblib', layer_num=0)\n",
    "\n",
    "get_run( '../mnt/bloom-models/bloom-final-global-step-600000/pytorch_model.bin',\n",
    "        layer_name='early_exits.1', save_name='../mnt/grads_layer14_bloom-600k.joblib', layer_num=1)"
   ]
  }
 ],
 "metadata": {
  "kernelspec": {
   "display_name": "Python 3 (ipykernel)",
   "language": "python",
   "name": "python3"
  },
  "language_info": {
   "codemirror_mode": {
    "name": "ipython",
    "version": 3
   },
   "file_extension": ".py",
   "mimetype": "text/x-python",
   "name": "python",
   "nbconvert_exporter": "python",
   "pygments_lexer": "ipython3",
   "version": "3.10.9"
  }
 },
 "nbformat": 4,
 "nbformat_minor": 5
}
